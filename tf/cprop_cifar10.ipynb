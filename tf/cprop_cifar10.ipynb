{
 "cells": [
  {
   "cell_type": "code",
   "execution_count": 1,
   "metadata": {},
   "outputs": [],
   "source": [
    "import tensorflow as tf\n",
    "from cprop_tf.cprop import CProp"
   ]
  },
  {
   "cell_type": "code",
   "execution_count": 5,
   "metadata": {},
   "outputs": [],
   "source": [
    "from __future__ import absolute_import, division, print_function, unicode_literals\n",
    "\n",
    "import tensorflow as tf\n",
    "\n",
    "from tensorflow.keras import datasets, layers, models\n",
    "import matplotlib.pyplot as plt\n",
    "import numpy as np"
   ]
  },
  {
   "cell_type": "code",
   "execution_count": 6,
   "metadata": {},
   "outputs": [],
   "source": [
    "(train_images, train_labels), (test_images, test_labels) = datasets.cifar10.load_data()\n",
    "train_images = train_images.astype(np.float32)\n",
    "test_images = test_images.astype(np.float32)\n",
    "train_images, test_images = train_images / 255.0, test_images / 255.0"
   ]
  },
  {
   "cell_type": "code",
   "execution_count": 7,
   "metadata": {},
   "outputs": [],
   "source": [
    "def make_model():\n",
    "    model = models.Sequential()\n",
    "    model.add(layers.Conv2D(32, (3, 3), activation='relu', input_shape=(32, 32, 3)))\n",
    "    model.add(layers.MaxPooling2D((2, 2)))\n",
    "    model.add(layers.Conv2D(64, (3, 3), activation='relu'))\n",
    "    model.add(layers.MaxPooling2D((2, 2)))\n",
    "    model.add(layers.Conv2D(64, (3, 3), activation='relu'))\n",
    "    model.add(layers.Flatten())\n",
    "    model.add(layers.Dense(64, activation='relu'))\n",
    "    model.add(layers.Dense(10, activation='softmax'))\n",
    "    return model"
   ]
  },
  {
   "cell_type": "code",
   "execution_count": 13,
   "metadata": {},
   "outputs": [],
   "source": [
    "def run(use_cprop):\n",
    "    opt = tf.keras.optimizers.Adam(lr=1e-3)\n",
    "    if use_cprop:\n",
    "        opt = CProp(opt, beta=0.999, c=1, cdf='bft')\n",
    "\n",
    "    model = make_model()\n",
    "    model.compile(optimizer=opt,\n",
    "                  loss='sparse_categorical_crossentropy',\n",
    "                  metrics=['accuracy'])\n",
    "\n",
    "    return model.fit(train_images,\n",
    "                     train_labels,\n",
    "                     epochs=10,\n",
    "                     validation_data=(test_images, test_labels))"
   ]
  },
  {
   "cell_type": "code",
   "execution_count": 14,
   "metadata": {},
   "outputs": [],
   "source": [
    "history = {}"
   ]
  },
  {
   "cell_type": "code",
   "execution_count": 17,
   "metadata": {},
   "outputs": [
    {
     "name": "stdout",
     "output_type": "stream",
     "text": [
      "Train on 50000 samples, validate on 10000 samples\n",
      "Epoch 1/10\n",
      "50000/50000 [==============================] - 8s 162us/sample - loss: 1.4715 - accuracy: 0.4648 - val_loss: 1.1958 - val_accuracy: 0.5753\n",
      "Epoch 2/10\n",
      "50000/50000 [==============================] - 6s 128us/sample - loss: 1.0793 - accuracy: 0.6229 - val_loss: 1.0548 - val_accuracy: 0.6257\n",
      "Epoch 3/10\n",
      "50000/50000 [==============================] - 6s 129us/sample - loss: 0.9096 - accuracy: 0.6809 - val_loss: 0.8967 - val_accuracy: 0.6893\n",
      "Epoch 4/10\n",
      "50000/50000 [==============================] - 6s 129us/sample - loss: 0.7950 - accuracy: 0.7235 - val_loss: 0.9035 - val_accuracy: 0.6809\n",
      "Epoch 5/10\n",
      "50000/50000 [==============================] - 6s 129us/sample - loss: 0.7116 - accuracy: 0.7521 - val_loss: 0.8353 - val_accuracy: 0.7083\n",
      "Epoch 6/10\n",
      "50000/50000 [==============================] - 7s 132us/sample - loss: 0.6467 - accuracy: 0.7750 - val_loss: 0.8396 - val_accuracy: 0.7144\n",
      "Epoch 7/10\n",
      "50000/50000 [==============================] - 7s 133us/sample - loss: 0.5846 - accuracy: 0.7963 - val_loss: 0.8330 - val_accuracy: 0.7173\n",
      "Epoch 8/10\n",
      "50000/50000 [==============================] - 6s 129us/sample - loss: 0.5333 - accuracy: 0.8151 - val_loss: 0.8195 - val_accuracy: 0.7236\n",
      "Epoch 9/10\n",
      "50000/50000 [==============================] - 6s 128us/sample - loss: 0.4847 - accuracy: 0.8318 - val_loss: 0.8324 - val_accuracy: 0.7280\n",
      "Epoch 10/10\n",
      "50000/50000 [==============================] - 6s 128us/sample - loss: 0.4471 - accuracy: 0.8447 - val_loss: 0.8640 - val_accuracy: 0.7295\n",
      "Train on 50000 samples, validate on 10000 samples\n",
      "Epoch 1/10\n",
      "50000/50000 [==============================] - 5s 100us/sample - loss: 1.5350 - accuracy: 0.4387 - val_loss: 1.3799 - val_accuracy: 0.5098\n",
      "Epoch 2/10\n",
      "50000/50000 [==============================] - 5s 92us/sample - loss: 1.1801 - accuracy: 0.5825 - val_loss: 1.1171 - val_accuracy: 0.6019\n",
      "Epoch 3/10\n",
      "50000/50000 [==============================] - 5s 92us/sample - loss: 1.0335 - accuracy: 0.6351 - val_loss: 0.9950 - val_accuracy: 0.6458\n",
      "Epoch 4/10\n",
      "50000/50000 [==============================] - 5s 93us/sample - loss: 0.9331 - accuracy: 0.6729 - val_loss: 0.9633 - val_accuracy: 0.6618\n",
      "Epoch 5/10\n",
      "50000/50000 [==============================] - 5s 91us/sample - loss: 0.8634 - accuracy: 0.6977 - val_loss: 0.9272 - val_accuracy: 0.6761\n",
      "Epoch 6/10\n",
      "50000/50000 [==============================] - 5s 92us/sample - loss: 0.8042 - accuracy: 0.7176 - val_loss: 0.8968 - val_accuracy: 0.6874\n",
      "Epoch 7/10\n",
      "50000/50000 [==============================] - 5s 92us/sample - loss: 0.7546 - accuracy: 0.7370 - val_loss: 0.9208 - val_accuracy: 0.6790\n",
      "Epoch 8/10\n",
      "50000/50000 [==============================] - 5s 91us/sample - loss: 0.7113 - accuracy: 0.7520 - val_loss: 0.8403 - val_accuracy: 0.7127\n",
      "Epoch 9/10\n",
      "50000/50000 [==============================] - 5s 93us/sample - loss: 0.6719 - accuracy: 0.7638 - val_loss: 0.8669 - val_accuracy: 0.7032\n",
      "Epoch 10/10\n",
      "50000/50000 [==============================] - 5s 93us/sample - loss: 0.6413 - accuracy: 0.7742 - val_loss: 0.8910 - val_accuracy: 0.7077\n"
     ]
    }
   ],
   "source": [
    "for use_cprop in [True, False]:\n",
    "    history[use_cprop] = run(use_cprop)"
   ]
  },
  {
   "cell_type": "code",
   "execution_count": 18,
   "metadata": {},
   "outputs": [
    {
     "data": {
      "image/png": "[encoded data removed]",
      "text/plain": [
       "<Figure size 432x288 with 1 Axes>"
      ]
     },
     "metadata": {
      "needs_background": "light"
     },
     "output_type": "display_data"
    }
   ],
   "source": [
    "for use_cprop in [True, False]:\n",
    "    name = 'cprop' if use_cprop else 'normal'\n",
    "    plt.plot(history[use_cprop].history['accuracy'], label=f'acc_{name}')\n",
    "    plt.plot(history[use_cprop].history['val_accuracy'], label=f'val_{name}')\n",
    "    plt.xlabel('Epoch')\n",
    "    plt.ylabel('Accuracy')\n",
    "    plt.ylim([0.5, 1])\n",
    "    plt.legend(loc='lower right')\n",
    "    \n",
    "plt.savefig('cifar10.png')"
   ]
  },
  {
   "cell_type": "code",
   "execution_count": null,
   "metadata": {},
   "outputs": [],
   "source": []
  }
 ],
 "metadata": {
  "kernelspec": {
   "display_name": "Python [conda env:charin]",
   "language": "python",
   "name": "conda-env-charin-py"
  },
  "language_info": {
   "codemirror_mode": {
    "name": "ipython",
    "version": 3
   },
   "file_extension": ".py",
   "mimetype": "text/x-python",
   "name": "python",
   "nbconvert_exporter": "python",
   "pygments_lexer": "ipython3",
   "version": "3.7.4"
  }
 },
 "nbformat": 4,
 "nbformat_minor": 4
}
